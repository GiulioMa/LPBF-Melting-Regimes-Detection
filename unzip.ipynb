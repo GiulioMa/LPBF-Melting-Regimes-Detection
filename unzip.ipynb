{
 "cells": [
  {
   "cell_type": "code",
   "execution_count": 2,
   "id": "aad777f4",
   "metadata": {},
   "outputs": [],
   "source": [
    "import zipfile\n",
    "import os\n",
    "\n",
    "def unzip_directory(zip_path, unzip_to_folder):\n",
    "    with zipfile.ZipFile(zip_path, 'r') as zip_ref:\n",
    "        zip_ref.extractall(unzip_to_folder)\n",
    "\n",
    "# Replace these paths with the actual paths on your system\n",
    "zip_path = 'Cube1_2_Project.zip'  # The ZIP file you want to unpack\n",
    "unzip_to_folder = './Cube1_2'  # The folder where you want to unpack the ZIP file\n",
    "\n",
    "# Create the folder if it doesn't exist\n",
    "if not os.path.exists(unzip_to_folder):\n",
    "    os.makedirs(unzip_to_folder)\n",
    "\n",
    "# Unzip the folder\n",
    "unzip_directory(zip_path, unzip_to_folder)\n"
   ]
  },
  {
   "cell_type": "code",
   "execution_count": 3,
   "id": "69ede316",
   "metadata": {},
   "outputs": [],
   "source": [
    "!mv ./a.gitignore ./.gitignore"
   ]
  },
  {
   "cell_type": "code",
   "execution_count": 5,
   "id": "ffd4abd2",
   "metadata": {},
   "outputs": [
    {
     "name": "stdout",
     "output_type": "stream",
     "text": [
      " .\t\t\t\t\t     .ipynb_checkpoints\r\n",
      " ..\t\t\t\t\t     LICENSE\r\n",
      " Architectures.py\t\t\t     Models\r\n",
      " Binary.ipynb\t\t\t\t     PocketModels\r\n",
      " Database\t\t\t\t     README.md\r\n",
      " .git\t\t\t\t\t     requirements.txt\r\n",
      "'GroundTruth and Data Visualization.ipynb'   Ternary.ipynb\r\n"
     ]
    }
   ],
   "source": [
    "!cd ../Adaptive-Filter-for-Acoustic-Signal-Segmentation/; ls -a"
   ]
  },
  {
   "cell_type": "code",
   "execution_count": null,
   "id": "aaf8a047",
   "metadata": {},
   "outputs": [],
   "source": []
  }
 ],
 "metadata": {
  "kernelspec": {
   "display_name": "Python 3 (ipykernel)",
   "language": "python",
   "name": "python3"
  },
  "language_info": {
   "codemirror_mode": {
    "name": "ipython",
    "version": 3
   },
   "file_extension": ".py",
   "mimetype": "text/x-python",
   "name": "python",
   "nbconvert_exporter": "python",
   "pygments_lexer": "ipython3",
   "version": "3.10.6"
  }
 },
 "nbformat": 4,
 "nbformat_minor": 5
}
